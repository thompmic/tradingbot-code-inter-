{
  "nbformat": 4,
  "nbformat_minor": 0,
  "metadata": {
    "colab": {
      "provenance": []
    },
    "kernelspec": {
      "name": "python3",
      "display_name": "Python 3"
    },
    "language_info": {
      "name": "python"
    }
  },
  "cells": [
    {
      "cell_type": "code",
      "execution_count": null,
      "metadata": {
        "id": "hPSnWsTKUYgE"
      },
      "outputs": [],
      "source": [
        "import numpy as np\n",
        "import pandas as pd\n",
        "from sklearn.preprocessing import MinMaxScaler\n",
        "from tensorflow.keras.models import Sequential\n",
        "from tensorflow.keras.layers import LSTM, Dense, Dropout\n",
        "import alpaca_trade_api as tradeapi\n",
        "import logging\n",
        "import math\n",
        "\n",
        "logging.basicConfig(filename='trading_bot.log', level=logging.INFO, format='%(asctime)s %(message)s')\n"
      ]
    },
    {
      "cell_type": "code",
      "source": [
        "# Load data\n",
        "df = pd.read_csv('sp500_index.csv')\n",
        "df['S&P500'] = df['S&P500'].astype(float)\n",
        "\n",
        "# Preprocess data\n",
        "scaler = MinMaxScaler(feature_range=(-1, 1))\n",
        "dataset = scaler.fit_transform(df['S&P500'].values.reshape(-1, 1))\n",
        "\n",
        "# Split into train and test sets\n",
        "train_size = int(len(dataset) * 0.7)\n",
        "train, test = dataset[0:train_size, :], dataset[train_size:len(dataset), :]\n"
      ],
      "metadata": {
        "id": "2PqZsqrOUaMp"
      },
      "execution_count": null,
      "outputs": []
    },
    {
      "cell_type": "code",
      "source": [
        "# Convert an array of values into a dataset matrix\n",
        "def create_dataset(dataset, look_back=1):\n",
        "    dataX, dataY = [], []\n",
        "    for i in range(len(dataset) - look_back - 1):\n",
        "        a = dataset[i:(i + look_back), 0]\n",
        "        dataX.append(a)\n",
        "        dataY.append(dataset[i + look_back, 0])\n",
        "    return np.array(dataX), np.array(dataY)\n",
        "\n",
        "# Set the look back window\n",
        "look_back = 5\n",
        "trainX, trainY = create_dataset(train, look_back)\n",
        "testX, testY = create_dataset(test, look_back)\n",
        "\n",
        "# Reshape the inputs from [samples, time steps] into [samples, time steps, features]\n",
        "trainX = np.reshape(trainX, (trainX.shape[0], 1, trainX.shape[1]))\n",
        "testX = np.reshape(testX, (testX.shape[0], 1, testX.shape[1]))\n"
      ],
      "metadata": {
        "id": "2tEHBnw6bwAE"
      },
      "execution_count": null,
      "outputs": []
    },
    {
      "cell_type": "code",
      "source": [
        "# Define the LSTM model\n",
        "model = Sequential()\n",
        "model.add(LSTM(units=50, return_sequences=True, input_shape=(trainX.shape[1], trainX.shape[2])))\n",
        "model.add(Dropout(0.2))\n",
        "model.add(LSTM(units=50, return_sequences=False))\n",
        "model.add(Dropout(0.2))\n",
        "model.add(Dense(1))\n",
        "\n",
        "# Compile and fit the model\n",
        "model.compile(optimizer='adam', loss='mean_squared_error')\n",
        "model.fit(trainX, trainY, epochs=20, batch_size=32)\n"
      ],
      "metadata": {
        "id": "eiwqfvqjUb1U"
      },
      "execution_count": null,
      "outputs": []
    },
    {
      "cell_type": "code",
      "source": [
        "# Make predictions\n",
        "trainPredict = model.predict(trainX)\n",
        "testPredict = model.predict(testX)\n",
        "\n",
        "# Invert predictions to get the actual predicted prices\n",
        "trainPredict = scaler.inverse_transform(trainPredict)\n",
        "trainY = scaler.inverse_transform([trainY])\n",
        "testPredict = scaler.inverse_transform(testPredict)\n"
      ],
      "metadata": {
        "id": "4ftpRcV6Ucp1"
      },
      "execution_count": null,
      "outputs": []
    },
    {
      "cell_type": "code",
      "source": [
        "# Set up Alpaca API\n",
        "api_key = 'your_api_key'\n",
        "api_secret = 'your_api_secret'\n",
        "base_url = 'https://paper-api.alpaca.markets'\n",
        "api = tradeapi.REST(api_key, api_secret, base_url)\n"
      ],
      "metadata": {
        "id": "b-Ys1kKzUfTy"
      },
      "execution_count": null,
      "outputs": []
    },
    {
      "cell_type": "code",
      "source": [
        "# Set initial variables\n",
        "capital = 6000  # Initial capital\n",
        "shares = 0  # Initially no shares\n",
        "price = None  # Initially no buying price\n",
        "bot_active = True  # Initially bot is active\n"
      ],
      "metadata": {
        "id": "-f-tO6-1UcxK"
      },
      "execution_count": null,
      "outputs": []
    },
    {
      "cell_type": "code",
      "source": [
        "# Trading logic\n",
        "for i in range(look_back, len(df)-1):\n",
        "    if not bot_active:\n",
        "        break\n",
        "\n",
        "    # Prepare the data\n",
        "    X = df['S&P500'].values[i-look_back:i].reshape(1, -1)\n",
        "    current_price = df['S&P500'].values[i]\n",
        "    next_day_price = df['S&P500'].values[i+1]\n",
        "\n",
        "    # Use the model to make a prediction\n",
        "    prediction = model.predict(X)\n",
        "\n",
        "    # Decide whether to buy or sell\n",
        "    if prediction > current_price and capital >= current_price:\n",
        "        shares = math.floor(capital / current_price)  # Buy as many shares as possible\n",
        "        try:\n",
        "            api.submit_order(symbol='SPY', qty=shares, side='buy', type='market', time_in_force='gtc')\n",
        "            price = current_price\n",
        "            capital -= shares * current_price  # Update capital\n",
        "            logging.info(f'Buying SPY at {current_price}, shares bought: {shares}')\n",
        "        except tradeapi.rest.APIError as e:\n",
        "            logging.error(f'Failed to submit the buy order: {str(e)}')\n",
        "    elif prediction < current_price and shares > 0:\n",
        "        try:\n",
        "            api.submit_order(symbol='SPY', qty=shares, side='sell', type='market', time_in_force='gtc')\n",
        "            capital += shares * current_price  # Update capital\n",
        "            logging.info(f'Selling SPY at {current_price}, shares sold: {shares}')\n",
        "            shares = 0  # Reset shares\n",
        "            price = None  # Reset buying price\n",
        "        except tradeapi.rest.APIError as e:\n",
        "            logging.error(f'Failed to submit the sell order: {str(e)}')\n"
      ],
      "metadata": {
        "id": "qGMdyFhDUjDn"
      },
      "execution_count": null,
      "outputs": []
    }
  ]
}